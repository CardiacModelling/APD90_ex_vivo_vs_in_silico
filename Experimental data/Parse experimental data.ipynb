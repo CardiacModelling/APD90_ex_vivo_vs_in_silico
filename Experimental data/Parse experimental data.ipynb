{
 "cells": [
  {
   "cell_type": "code",
   "execution_count": 1,
   "id": "04fb0f20",
   "metadata": {},
   "outputs": [],
   "source": [
    "import pandas as pd\n",
    "import matplotlib.pyplot as plt\n",
    "plt.rcParams['font.family'] = 'Times New Roman'\n",
    "plt.rcParams['mathtext.default'] = 'regular'\n",
    "import numpy as np\n",
    "\n"
   ]
  },
  {
   "cell_type": "code",
   "execution_count": 6,
   "id": "c8f221c5",
   "metadata": {},
   "outputs": [],
   "source": [
    "# Load the IC50 data\n",
    "IC50s = pd.read_csv('Final IC50 dataset.csv', delimiter= ';')\n",
    "\n",
    "def parse_protocol(protocol):\n",
    "    if protocol == 'CiPA':\n",
    "        return True, True\n",
    "    if protocol == 'Pharm':\n",
    "        return False, False\n",
    "\n",
    "def parse_rescaling(drug, concentration, CiPA_hERG, CiPA_CaV):\n",
    "    IC50s_filtered = IC50s[IC50s['Drug'] == drug]\n",
    "\n",
    "    if CiPA_hERG:\n",
    "        #print('hERG IC50 : ' + str(np.array(IC50s_filtered['hERG IC50 CiPA'])) + ' / ' + str(np.array(IC50s_filtered['hERG h CiPA'])))\n",
    "        hERG_IC50 = np.array(IC50s_filtered['hERG IC50 CiPA'])\n",
    "        hERG_h = np.array(IC50s_filtered['hERG h CiPA'])\n",
    "    else:\n",
    "        #print('hERG IC50 : ' + str(np.array(IC50s_filtered['hERG IC50 Pharm'])) + ' / ' + str(np.array(IC50s_filtered['hERG h Pharm'])))\n",
    "        hERG_IC50 = np.array(IC50s_filtered['hERG IC50 Pharm'])\n",
    "        hERG_h = np.array(IC50s_filtered['hERG h Pharm'])\n",
    "\n",
    "    if CiPA_CaV:\n",
    "        #print('CaV IC50 : ' + str(np.array(IC50s_filtered['CaV IC50 CiPA'])) + ' / ' + str(np.array(IC50s_filtered['CaV h CiPA'])))\n",
    "        CaV_IC50 = np.array(IC50s_filtered['CaV IC50 CiPA'])\n",
    "        CaV_h = np.array(IC50s_filtered['CaV h CiPA'])\n",
    "    else:\n",
    "        #print('CaV IC50 : ' + str(np.array(IC50s_filtered['CaV IC50 Pharm'])) + ' / ' + str(np.array(IC50s_filtered['CaV h Pharm'])))\n",
    "        CaV_IC50 = np.array(IC50s_filtered['CaV IC50 Pharm'])\n",
    "        CaV_h = np.array(IC50s_filtered['CaV h Pharm'])\n",
    "\n",
    "    # Compute current block\n",
    "    ikr_rescale = 1 / (1 + np.power(concentration / hERG_IC50, hERG_h))\n",
    "    ical_rescale = 1 / (1 + np.power(concentration / CaV_IC50, CaV_h))\n",
    "\n",
    "    return ikr_rescale, ical_rescale"
   ]
  },
  {
   "cell_type": "code",
   "execution_count": 8,
   "id": "ca849916",
   "metadata": {},
   "outputs": [],
   "source": [
    "def curate_df(df, protocol):\n",
    "    # Replace NaN cons by 0\n",
    "    df['Nominal concentration 2'] = df['Nominal concentration 2'].fillna(0)\n",
    "    df['Measured concentration 2'] = df['Measured concentration 2'].fillna(0)\n",
    "\n",
    "    # Delete the rows with two drugs\n",
    "    df = df.drop(df[df['Nominal concentration 2'] > 0].index)\n",
    "    # Delete the rows with no drug\n",
    "    df = df.drop(df[df['Nominal concentration 1'] == 0].index)\n",
    "\n",
    "    # Group by drug effect\n",
    "    df_clean = df.groupby(['Drug 1', 'Nominal concentration 1', 'Nominal concentration 2'], as_index = False).mean()\n",
    "    SEMs = df.groupby(['Drug 1', 'Nominal concentration 1', 'Nominal concentration 2'], as_index = False).sem()\n",
    "    df_clean['SEM'] = SEMs['DAPD']\n",
    "\n",
    "    # Clean columns\n",
    "    df_clean = df_clean.drop(columns = ['Unnamed: 0', 'Trabecula', 'APD90'])\n",
    "\n",
    "\n",
    "    # Recompute the IKr and ICaL block\n",
    "    ikr_blocks = np.zeros(len(df_clean))\n",
    "    ical_blocks = np.zeros(len(df_clean))\n",
    "\n",
    "    for i in range(len(df_clean)):\n",
    "        CiPA_hERG, CiPA_CaV = parse_protocol(protocol)\n",
    "        ikr_blocks[i], ical_blocks[i] = parse_rescaling(df_clean['Drug 1'][i], df_clean['Measured concentration 1'][i], CiPA_hERG, CiPA_CaV)\n",
    "\n",
    "    df_clean['IKr block'] = ikr_blocks\n",
    "    df_clean['ICaL block'] = ical_blocks\n",
    "\n",
    "    df_clean.to_csv('Data for benchmark - ' + protocol + '.csv', sep = ',')\n",
    "    return df_clean\n",
    "\n",
    "# Load the whole dataset\n",
    "CiPA_df = pd.read_csv('All APD90 and drug concentration data - CiPA.csv', delimiter = ';')\n",
    "Pharm_df = pd.read_csv('All APD90 and drug concentration data - Pharm.csv', delimiter = ';')\n",
    "\n",
    "# Curate\n",
    "CiPA_clean_df = curate_df(CiPA_df, 'CiPA')\n",
    "Pharm_clean_df = curate_df(Pharm_df, 'Pharm')"
   ]
  },
  {
   "cell_type": "code",
   "execution_count": null,
   "id": "a3571044",
   "metadata": {},
   "outputs": [],
   "source": []
  },
  {
   "cell_type": "code",
   "execution_count": null,
   "id": "8a1ab69c",
   "metadata": {},
   "outputs": [],
   "source": []
  },
  {
   "cell_type": "code",
   "execution_count": null,
   "id": "31464e5b",
   "metadata": {},
   "outputs": [],
   "source": []
  }
 ],
 "metadata": {
  "kernelspec": {
   "display_name": "Python 3 (ipykernel)",
   "language": "python",
   "name": "python3"
  },
  "language_info": {
   "codemirror_mode": {
    "name": "ipython",
    "version": 3
   },
   "file_extension": ".py",
   "mimetype": "text/x-python",
   "name": "python",
   "nbconvert_exporter": "python",
   "pygments_lexer": "ipython3",
   "version": "3.10.6"
  }
 },
 "nbformat": 4,
 "nbformat_minor": 5
}
